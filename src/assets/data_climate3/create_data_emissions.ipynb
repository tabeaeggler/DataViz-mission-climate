{
 "cells": [
  {
   "cell_type": "code",
   "execution_count": 35,
   "metadata": {},
   "outputs": [],
   "source": [
    "import pandas as pd\n",
    "import numpy as np"
   ]
  },
  {
   "cell_type": "code",
   "execution_count": 48,
   "metadata": {},
   "outputs": [],
   "source": [
    "#Emissions by gas (from ICPP)\n",
    "C02 = 76\n",
    "CH4 = 16\n",
    "N20 = 6\n",
    "FGAS = 2\n",
    "\n",
    "#Emissions by sector (from ICPP)\n",
    "electricity = 25\n",
    "industry = 21\n",
    "agriculture = 24\n",
    "transport = 14\n",
    "buildings = 6\n",
    "other = 10\n",
    "\n",
    "#Calculate bubble types based on total number of bubbles\n",
    "nrBubblesTotal = 140\n",
    "\n",
    "nrBubblesCH4 = int(nrBubblesTotal * CH4 / 100)\n",
    "nrBubblesN20 = int(nrBubblesTotal * N20 / 100)\n",
    "nrBubblesFGas = int(nrBubblesTotal * FGAS / 100)\n",
    "nrBubblesC02 = nrBubblesTotal * C02 / 100\n",
    "\n",
    "nrOfC02Electricity = int(nrBubblesC02 * electricity / 100)\n",
    "nrOfC02Industry = int(nrBubblesC02 * industry / 100)\n",
    "nrOfC02Agriculture = int(nrBubblesC02 * agriculture / 100)\n",
    "nrOfC02Transport = int(nrBubblesC02 * transport / 100)\n",
    "nrOfC02Buildings = int(nrBubblesC02 * buildings / 100)\n",
    "nrOfC02Other = int(nrBubblesC02 * other / 100)\n",
    "\n",
    "#create dataframe\n",
    "df = pd.DataFrame(\"0\", index=range(nrBubblesTotal), columns=[\"type\"])\n",
    "\n",
    "#fill dataframe\n",
    "index_global = 0\n",
    "i = 0\n",
    "\n",
    "while i < nrBubblesCH4:\n",
    "    df.loc[index_global].type = \"CH4\"\n",
    "    i += 1\n",
    "    index_global += 1\n",
    "\n",
    "i = 0\n",
    "while i < nrBubblesN20:\n",
    "    df.loc[index_global].type = \"N20\"\n",
    "    i += 1\n",
    "    index_global += 1\n",
    "\n",
    "i = 0\n",
    "while i < nrBubblesFGas:\n",
    "    df.loc[index_global].type = \"FGAS\"\n",
    "    i += 1\n",
    "    index_global += 1\n",
    "\n",
    "i = 0\n",
    "while i < nrOfC02Electricity:\n",
    "    df.loc[index_global].type = \"C02-Electricity\"\n",
    "    i += 1\n",
    "    index_global += 1\n",
    "\n",
    "i = 0\n",
    "while i < nrOfC02Industry:\n",
    "    df.loc[index_global].type = \"C02-Industry\"\n",
    "    i += 1\n",
    "    index_global += 1\n",
    "\n",
    "i = 0\n",
    "while i < nrOfC02Agriculture:\n",
    "    df.loc[index_global].type = \"C02-Agriculture\"\n",
    "    i += 1\n",
    "    index_global += 1\n",
    "\n",
    "i = 0\n",
    "while i < nrOfC02Transport:\n",
    "    df.loc[index_global].type = \"C02-Transport\"\n",
    "    i += 1\n",
    "    index_global += 1\n",
    "\n",
    "i = 0\n",
    "while i < nrOfC02Buildings:\n",
    "    df.loc[index_global].type = \"C02-Buildings\"\n",
    "    i += 1\n",
    "    index_global += 1\n",
    "\n",
    "i = 0\n",
    "while i < nrOfC02Other:\n",
    "    df.loc[index_global].type = \"C02-Other\"\n",
    "    i += 1\n",
    "    index_global += 1\n",
    "\n",
    "indexToDrop = df[df.type == \"0\"].index\n",
    "df = df.drop(indexToDrop)"
   ]
  },
  {
   "cell_type": "code",
   "execution_count": 49,
   "metadata": {},
   "outputs": [
    {
     "output_type": "execute_result",
     "data": {
      "text/plain": "          type\n0          CH4\n1          CH4\n2          CH4\n3          CH4\n4          CH4\n..         ...\n130  C02-Other\n131  C02-Other\n132  C02-Other\n133  C02-Other\n134  C02-Other\n\n[135 rows x 1 columns]",
      "text/html": "<div>\n<style scoped>\n    .dataframe tbody tr th:only-of-type {\n        vertical-align: middle;\n    }\n\n    .dataframe tbody tr th {\n        vertical-align: top;\n    }\n\n    .dataframe thead th {\n        text-align: right;\n    }\n</style>\n<table border=\"1\" class=\"dataframe\">\n  <thead>\n    <tr style=\"text-align: right;\">\n      <th></th>\n      <th>type</th>\n    </tr>\n  </thead>\n  <tbody>\n    <tr>\n      <th>0</th>\n      <td>CH4</td>\n    </tr>\n    <tr>\n      <th>1</th>\n      <td>CH4</td>\n    </tr>\n    <tr>\n      <th>2</th>\n      <td>CH4</td>\n    </tr>\n    <tr>\n      <th>3</th>\n      <td>CH4</td>\n    </tr>\n    <tr>\n      <th>4</th>\n      <td>CH4</td>\n    </tr>\n    <tr>\n      <th>...</th>\n      <td>...</td>\n    </tr>\n    <tr>\n      <th>130</th>\n      <td>C02-Other</td>\n    </tr>\n    <tr>\n      <th>131</th>\n      <td>C02-Other</td>\n    </tr>\n    <tr>\n      <th>132</th>\n      <td>C02-Other</td>\n    </tr>\n    <tr>\n      <th>133</th>\n      <td>C02-Other</td>\n    </tr>\n    <tr>\n      <th>134</th>\n      <td>C02-Other</td>\n    </tr>\n  </tbody>\n</table>\n<p>135 rows × 1 columns</p>\n</div>"
     },
     "metadata": {},
     "execution_count": 49
    }
   ],
   "source": [
    "df"
   ]
  },
  {
   "cell_type": "code",
   "execution_count": 50,
   "metadata": {},
   "outputs": [],
   "source": [
    "#save as a new csv file\n",
    "df.to_csv(\"./bubble_objects.csv\")"
   ]
  },
  {
   "cell_type": "code",
   "execution_count": null,
   "metadata": {},
   "outputs": [],
   "source": []
  },
  {
   "cell_type": "code",
   "execution_count": null,
   "metadata": {},
   "outputs": [],
   "source": []
  }
 ],
 "metadata": {
  "language_info": {
   "codemirror_mode": {
    "name": "ipython",
    "version": 3
   },
   "file_extension": ".py",
   "mimetype": "text/x-python",
   "name": "python",
   "nbconvert_exporter": "python",
   "pygments_lexer": "ipython3",
   "version": "3.7.6-final"
  },
  "orig_nbformat": 2,
  "kernelspec": {
   "name": "python3",
   "display_name": "Python 3"
  }
 },
 "nbformat": 4,
 "nbformat_minor": 2
}