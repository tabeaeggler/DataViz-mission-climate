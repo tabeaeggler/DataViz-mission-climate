{
 "cells": [
  {
   "cell_type": "code",
   "execution_count": 6,
   "metadata": {},
   "outputs": [],
   "source": [
    "import pandas as pd\n",
    "import numpy as np\n",
    "import random"
   ]
  },
  {
   "cell_type": "code",
   "execution_count": 37,
   "metadata": {},
   "outputs": [],
   "source": [
    "#Emissions by gas (from ICPP)\n",
    "C02 = 76\n",
    "CH4 = 16\n",
    "N02 = 6\n",
    "FGAS = 2\n",
    "\n",
    "#Emissions by sector (from ICPP)\n",
    "electricity = 25\n",
    "industry = 21\n",
    "agriculture = 24\n",
    "transport = 14\n",
    "buildings = 6\n",
    "other = 10\n",
    "\n",
    "#Calculate bubble types based on total number of bubbles\n",
    "nrBubblesTotal = 140\n",
    "\n",
    "nrBubblesCH4 = int(nrBubblesTotal * CH4 / 100)\n",
    "nrBubblesN02 = int(nrBubblesTotal * N02 / 100)\n",
    "nrBubblesFGas = int(nrBubblesTotal * FGAS / 100)\n",
    "nrBubblesC02 = int(nrBubblesTotal * C02 / 100)\n",
    "\n",
    "nrBubbleElectricity = int(nrBubblesTotal * electricity / 100)\n",
    "nrBubbleIndustry = int(nrBubblesTotal * industry / 100)\n",
    "nrBubbleAgriculture = int(nrBubblesTotal * agriculture / 100)\n",
    "nrBubbleTransport = int(nrBubblesTotal * transport / 100)\n",
    "nrBubbleBuildings = int(nrBubblesTotal * buildings / 100)\n",
    "nrBubbleOther = int(nrBubblesTotal * other / 100)\n",
    "\n",
    "#create dataframe\n",
    "df = pd.DataFrame(\"0\", index=range(nrBubblesTotal), columns=[\"type\", \"sector\"])\n",
    "\n",
    "#fill dataframe\n",
    "\n",
    "#type\n",
    "index_global = 0\n",
    "i = 0\n",
    "while i < nrBubblesCH4:\n",
    "    df.loc[index_global].type = \"CH4\"\n",
    "    i += 1\n",
    "    index_global += 1\n",
    "\n",
    "i = 0\n",
    "while i < nrBubblesN02:\n",
    "    df.loc[index_global].type = \"N02\"\n",
    "    i += 1\n",
    "    index_global += 1\n",
    "\n",
    "i = 0\n",
    "while i < nrBubblesFGas:\n",
    "    df.loc[index_global].type = \"FGAS\"\n",
    "    i += 1\n",
    "    index_global += 1\n",
    "\n",
    "i = 0\n",
    "while i < nrBubblesC02:\n",
    "    df.loc[index_global].type = \"C02\"\n",
    "    i += 1\n",
    "    index_global += 1\n",
    "\n",
    "\n",
    "#random shuffle\n",
    "df = df.sample(frac=1).reset_index(drop=True)\n",
    "\n",
    "#sector\n",
    "index_global = 0\n",
    "i = 0\n",
    "while i < nrBubbleElectricity:\n",
    "    df.loc[index_global].sector = \"Electricity\"\n",
    "    i += 1\n",
    "    index_global += 1\n",
    "\n",
    "i = 0\n",
    "while i < nrBubbleIndustry:\n",
    "    df.loc[index_global].sector = \"Industry\"\n",
    "    i += 1\n",
    "    index_global += 1\n",
    "\n",
    "i = 0\n",
    "while i < nrBubbleAgriculture:\n",
    "    df.loc[index_global].sector = \"Agriculture\"\n",
    "    i += 1\n",
    "    index_global += 1\n",
    "\n",
    "i = 0\n",
    "while i < nrBubbleTransport:\n",
    "    df.loc[index_global].sector = \"Transport\"\n",
    "    i += 1\n",
    "    index_global += 1\n",
    "\n",
    "i = 0\n",
    "while i < nrBubbleBuildings:\n",
    "    df.loc[index_global].sector = \"Buildings\"\n",
    "    i += 1\n",
    "    index_global += 1\n",
    "\n",
    "i = 0\n",
    "while i < nrBubbleOther:\n",
    "    df.loc[index_global].sector = \"Other\"\n",
    "    i += 1\n",
    "    index_global += 1\n",
    "\n",
    "df = df.drop(df[df.type == \"0\"].index)\n",
    "df = df.drop(df[df.sector == \"0\"].index)"
   ]
  },
  {
   "cell_type": "code",
   "execution_count": 38,
   "metadata": {},
   "outputs": [],
   "source": [
    "#clusters\n",
    "XPositions = [0.1, 0.3, 0.6, 0.7, 0.9]\n",
    "YPositions = [0.1, 0.9, 0.3, 0.7, 0.2]\n",
    "df['cluster1X'] = df.apply(lambda x: XPositions[random.randint(0, 4)], axis=1)\n",
    "df['cluster1Y'] = df.apply(lambda x: YPositions[random.randint(0, 4)], axis=1)\n",
    "\n",
    "df['cluster2X'] = df.apply(lambda x: XPositions[random.randint(0, 4)], axis=1)\n",
    "df['cluster2Y'] = df.apply(lambda x: YPositions[random.randint(0, 4)], axis=1)\n",
    "\n",
    "df['cluster3X'] = df.apply(lambda x: XPositions[random.randint(0, 4)], axis=1)\n",
    "df['cluster3Y'] = df.apply(lambda x: YPositions[random.randint(0, 4)], axis=1)"
   ]
  },
  {
   "cell_type": "code",
   "execution_count": 40,
   "metadata": {},
   "outputs": [
    {
     "output_type": "execute_result",
     "data": {
      "text/plain": "    type       sector  cluster1X  cluster1Y  cluster2X  cluster2Y  cluster3X  \\\n0    C02  Electricity        0.1        0.7        0.3        0.7        0.3   \n1    C02  Electricity        0.6        0.9        0.6        0.7        0.6   \n2    C02  Electricity        0.7        0.2        0.6        0.1        0.3   \n3    C02  Electricity        0.1        0.2        0.6        0.1        0.3   \n4    C02  Electricity        0.7        0.9        0.9        0.2        0.6   \n..   ...          ...        ...        ...        ...        ...        ...   \n133  C02        Other        0.6        0.1        0.6        0.9        0.6   \n134  C02        Other        0.3        0.3        0.1        0.1        0.9   \n135  C02        Other        0.1        0.2        0.3        0.7        0.1   \n136  C02        Other        0.7        0.9        0.3        0.7        0.3   \n137  N02        Other        0.6        0.1        0.6        0.3        0.6   \n\n     cluster3Y  \n0          0.3  \n1          0.7  \n2          0.9  \n3          0.9  \n4          0.9  \n..         ...  \n133        0.3  \n134        0.1  \n135        0.7  \n136        0.9  \n137        0.1  \n\n[136 rows x 8 columns]",
      "text/html": "<div>\n<style scoped>\n    .dataframe tbody tr th:only-of-type {\n        vertical-align: middle;\n    }\n\n    .dataframe tbody tr th {\n        vertical-align: top;\n    }\n\n    .dataframe thead th {\n        text-align: right;\n    }\n</style>\n<table border=\"1\" class=\"dataframe\">\n  <thead>\n    <tr style=\"text-align: right;\">\n      <th></th>\n      <th>type</th>\n      <th>sector</th>\n      <th>cluster1X</th>\n      <th>cluster1Y</th>\n      <th>cluster2X</th>\n      <th>cluster2Y</th>\n      <th>cluster3X</th>\n      <th>cluster3Y</th>\n    </tr>\n  </thead>\n  <tbody>\n    <tr>\n      <th>0</th>\n      <td>C02</td>\n      <td>Electricity</td>\n      <td>0.1</td>\n      <td>0.7</td>\n      <td>0.3</td>\n      <td>0.7</td>\n      <td>0.3</td>\n      <td>0.3</td>\n    </tr>\n    <tr>\n      <th>1</th>\n      <td>C02</td>\n      <td>Electricity</td>\n      <td>0.6</td>\n      <td>0.9</td>\n      <td>0.6</td>\n      <td>0.7</td>\n      <td>0.6</td>\n      <td>0.7</td>\n    </tr>\n    <tr>\n      <th>2</th>\n      <td>C02</td>\n      <td>Electricity</td>\n      <td>0.7</td>\n      <td>0.2</td>\n      <td>0.6</td>\n      <td>0.1</td>\n      <td>0.3</td>\n      <td>0.9</td>\n    </tr>\n    <tr>\n      <th>3</th>\n      <td>C02</td>\n      <td>Electricity</td>\n      <td>0.1</td>\n      <td>0.2</td>\n      <td>0.6</td>\n      <td>0.1</td>\n      <td>0.3</td>\n      <td>0.9</td>\n    </tr>\n    <tr>\n      <th>4</th>\n      <td>C02</td>\n      <td>Electricity</td>\n      <td>0.7</td>\n      <td>0.9</td>\n      <td>0.9</td>\n      <td>0.2</td>\n      <td>0.6</td>\n      <td>0.9</td>\n    </tr>\n    <tr>\n      <th>...</th>\n      <td>...</td>\n      <td>...</td>\n      <td>...</td>\n      <td>...</td>\n      <td>...</td>\n      <td>...</td>\n      <td>...</td>\n      <td>...</td>\n    </tr>\n    <tr>\n      <th>133</th>\n      <td>C02</td>\n      <td>Other</td>\n      <td>0.6</td>\n      <td>0.1</td>\n      <td>0.6</td>\n      <td>0.9</td>\n      <td>0.6</td>\n      <td>0.3</td>\n    </tr>\n    <tr>\n      <th>134</th>\n      <td>C02</td>\n      <td>Other</td>\n      <td>0.3</td>\n      <td>0.3</td>\n      <td>0.1</td>\n      <td>0.1</td>\n      <td>0.9</td>\n      <td>0.1</td>\n    </tr>\n    <tr>\n      <th>135</th>\n      <td>C02</td>\n      <td>Other</td>\n      <td>0.1</td>\n      <td>0.2</td>\n      <td>0.3</td>\n      <td>0.7</td>\n      <td>0.1</td>\n      <td>0.7</td>\n    </tr>\n    <tr>\n      <th>136</th>\n      <td>C02</td>\n      <td>Other</td>\n      <td>0.7</td>\n      <td>0.9</td>\n      <td>0.3</td>\n      <td>0.7</td>\n      <td>0.3</td>\n      <td>0.9</td>\n    </tr>\n    <tr>\n      <th>137</th>\n      <td>N02</td>\n      <td>Other</td>\n      <td>0.6</td>\n      <td>0.1</td>\n      <td>0.6</td>\n      <td>0.3</td>\n      <td>0.6</td>\n      <td>0.1</td>\n    </tr>\n  </tbody>\n</table>\n<p>136 rows × 8 columns</p>\n</div>"
     },
     "metadata": {},
     "execution_count": 40
    }
   ],
   "source": [
    "df"
   ]
  },
  {
   "cell_type": "code",
   "execution_count": 41,
   "metadata": {},
   "outputs": [],
   "source": [
    "#save as a new csv file\n",
    "df.to_csv(\"./bubble_objects.csv\")"
   ]
  },
  {
   "cell_type": "code",
   "execution_count": null,
   "metadata": {},
   "outputs": [],
   "source": []
  },
  {
   "cell_type": "code",
   "execution_count": null,
   "metadata": {},
   "outputs": [],
   "source": []
  }
 ],
 "metadata": {
  "language_info": {
   "codemirror_mode": {
    "name": "ipython",
    "version": 3
   },
   "file_extension": ".py",
   "mimetype": "text/x-python",
   "name": "python",
   "nbconvert_exporter": "python",
   "pygments_lexer": "ipython3",
   "version": "3.7.6-final"
  },
  "orig_nbformat": 2,
  "kernelspec": {
   "name": "python3",
   "display_name": "Python 3"
  }
 },
 "nbformat": 4,
 "nbformat_minor": 2
}