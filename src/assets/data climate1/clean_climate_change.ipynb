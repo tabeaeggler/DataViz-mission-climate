{
 "nbformat": 4,
 "nbformat_minor": 2,
 "metadata": {
  "language_info": {
   "name": "python",
   "codemirror_mode": {
    "name": "ipython",
    "version": 3
   },
   "version": "3.7.3-final"
  },
  "orig_nbformat": 2,
  "file_extension": ".py",
  "mimetype": "text/x-python",
  "name": "python",
  "npconvert_exporter": "python",
  "pygments_lexer": "ipython3",
  "version": 3,
  "kernelspec": {
   "name": "python3",
   "display_name": "Python 3"
  }
 },
 "cells": [
  {
   "cell_type": "code",
   "execution_count": 45,
   "metadata": {},
   "outputs": [],
   "source": [
    "import pandas as pd\n",
    "import numpy as np\n",
    "import json\n",
    "import geojson"
   ]
  },
  {
   "cell_type": "code",
   "execution_count": 32,
   "metadata": {},
   "outputs": [
    {
     "output_type": "execute_result",
     "data": {
      "text/plain": "   country_eng  year  value\n0  Afghanistan  1961 -0.080\n1  Afghanistan  1962 -0.120\n2  Afghanistan  1963  0.882\n3  Afghanistan  1964 -0.727\n4  Afghanistan  1965 -0.200",
      "text/html": "<div>\n<style scoped>\n    .dataframe tbody tr th:only-of-type {\n        vertical-align: middle;\n    }\n\n    .dataframe tbody tr th {\n        vertical-align: top;\n    }\n\n    .dataframe thead th {\n        text-align: right;\n    }\n</style>\n<table border=\"1\" class=\"dataframe\">\n  <thead>\n    <tr style=\"text-align: right;\">\n      <th></th>\n      <th>country_eng</th>\n      <th>year</th>\n      <th>value</th>\n    </tr>\n  </thead>\n  <tbody>\n    <tr>\n      <th>0</th>\n      <td>Afghanistan</td>\n      <td>1961</td>\n      <td>-0.080</td>\n    </tr>\n    <tr>\n      <th>1</th>\n      <td>Afghanistan</td>\n      <td>1962</td>\n      <td>-0.120</td>\n    </tr>\n    <tr>\n      <th>2</th>\n      <td>Afghanistan</td>\n      <td>1963</td>\n      <td>0.882</td>\n    </tr>\n    <tr>\n      <th>3</th>\n      <td>Afghanistan</td>\n      <td>1964</td>\n      <td>-0.727</td>\n    </tr>\n    <tr>\n      <th>4</th>\n      <td>Afghanistan</td>\n      <td>1965</td>\n      <td>-0.200</td>\n    </tr>\n  </tbody>\n</table>\n</div>"
     },
     "metadata": {},
     "execution_count": 32
    }
   ],
   "source": [
    "#import climate change data\n",
    "df = pd.read_csv('./raw/climate_change_orig.csv')\n",
    "\n",
    "#delete not used columns\n",
    "df.drop(['Domain Code', 'Area Code', 'Domain', 'Element Code', 'Element', 'Months Code', 'Months', 'Year Code', 'Unit', 'Flag', 'Flag Description'], axis=1, inplace=True)\n",
    "\n",
    "#rename columns\n",
    "df.columns = ['country_eng', 'year', 'value']\n",
    "\n",
    "df.head()"
   ]
  },
  {
   "cell_type": "code",
   "execution_count": 33,
   "metadata": {},
   "outputs": [],
   "source": [
    "#import country codes for mapping\n",
    "df_country_code = pd.read_csv('./raw/country_codes.CSV', index_col=5)\n",
    "\n",
    "#delete not used columns\n",
    "df_country_code.drop(['LANG', 'LANG_NAME', 'COUNTRY_ALPHA3_CODE', 'COUNTRY_NUMERIC_CODE'], axis=1, inplace=True)\n",
    "\n",
    "#create dict: (<countryname>: <countycode>)\n",
    "country_dict = df_country_code.to_dict('dict')\n",
    ""
   ]
  },
  {
   "cell_type": "code",
   "execution_count": 34,
   "metadata": {},
   "outputs": [],
   "source": [
    "def get_country_code(country_name, country_dict):\n",
    "    \"\"\"returns the country code of specific country\n",
    "    \n",
    "        Parameters:\n",
    "        country_name: Name of the country in english (String)\n",
    "        country_dict: Dictionary with country - country code mapping (Dictionary)\n",
    "\n",
    "        Returns: country code if found, otherwise empty string (String)\n",
    "\n",
    "       \"\"\"    \n",
    "    for key, value in country_dict.get('COUNTRY_ALPHA2_CODE').items():\n",
    "        if key in country_name:\n",
    "            return str(value).lower()\n",
    "    return \"\""
   ]
  },
  {
   "cell_type": "code",
   "execution_count": 35,
   "metadata": {},
   "outputs": [],
   "source": [
    "def get_country_translation(country_code, country_dict):\n",
    "    \"\"\"returns the translated country name\n",
    "    \n",
    "        Parameters:\n",
    "        country_code: Alpha2 Country Code (String)\n",
    "        country_dict: Dictionary with country code - translated country name mapping (Dictionary)\n",
    "\n",
    "        Returns: translated country name if found, otherwise empty String (String)\n",
    "\n",
    "       \"\"\"    \n",
    "\n",
    "    for key, value in country_dict.items():\n",
    "        if key in country_code:\n",
    "            return str(value)\n",
    "    return \"\""
   ]
  },
  {
   "cell_type": "code",
   "execution_count": 36,
   "metadata": {},
   "outputs": [],
   "source": [
    "#mapping (country -> country code) & add to dataframe\n",
    "df['country_code'] = df['country_eng'].apply(lambda x: get_country_code(x, country_dict))"
   ]
  },
  {
   "cell_type": "code",
   "execution_count": 37,
   "metadata": {},
   "outputs": [],
   "source": [
    "#import french translated country name\n",
    "df_de = pd.read_csv('./raw/country_translation_de.csv', usecols=['name', 'alpha2'])\n",
    "df_fr = pd.read_csv('./raw/country_translation_fr.csv', usecols=['name', 'alpha2'])\n",
    "df_it = pd.read_csv('./raw/country_translation_it.csv', usecols=['name', 'alpha2'])\n",
    "\n",
    "#create dict: (<countycode>:<translated countryname>)\n",
    "country_dict_de = df_de.set_index('alpha2')['name'].to_dict()\n",
    "country_dict_fr = df_fr.set_index('alpha2')['name'].to_dict()\n",
    "country_dict_it = df_it.set_index('alpha2')['name'].to_dict()"
   ]
  },
  {
   "cell_type": "code",
   "execution_count": 38,
   "metadata": {},
   "outputs": [
    {
     "output_type": "execute_result",
     "data": {
      "text/plain": "   country_eng  year  value country_code   country_de   country_fr  \\\n0  Afghanistan  1961 -0.080           af  Afghanistan  Afghanistan   \n1  Afghanistan  1962 -0.120           af  Afghanistan  Afghanistan   \n2  Afghanistan  1963  0.882           af  Afghanistan  Afghanistan   \n3  Afghanistan  1964 -0.727           af  Afghanistan  Afghanistan   \n4  Afghanistan  1965 -0.200           af  Afghanistan  Afghanistan   \n\n    country_it  \n0  Afghanistan  \n1  Afghanistan  \n2  Afghanistan  \n3  Afghanistan  \n4  Afghanistan  ",
      "text/html": "<div>\n<style scoped>\n    .dataframe tbody tr th:only-of-type {\n        vertical-align: middle;\n    }\n\n    .dataframe tbody tr th {\n        vertical-align: top;\n    }\n\n    .dataframe thead th {\n        text-align: right;\n    }\n</style>\n<table border=\"1\" class=\"dataframe\">\n  <thead>\n    <tr style=\"text-align: right;\">\n      <th></th>\n      <th>country_eng</th>\n      <th>year</th>\n      <th>value</th>\n      <th>country_code</th>\n      <th>country_de</th>\n      <th>country_fr</th>\n      <th>country_it</th>\n    </tr>\n  </thead>\n  <tbody>\n    <tr>\n      <th>0</th>\n      <td>Afghanistan</td>\n      <td>1961</td>\n      <td>-0.080</td>\n      <td>af</td>\n      <td>Afghanistan</td>\n      <td>Afghanistan</td>\n      <td>Afghanistan</td>\n    </tr>\n    <tr>\n      <th>1</th>\n      <td>Afghanistan</td>\n      <td>1962</td>\n      <td>-0.120</td>\n      <td>af</td>\n      <td>Afghanistan</td>\n      <td>Afghanistan</td>\n      <td>Afghanistan</td>\n    </tr>\n    <tr>\n      <th>2</th>\n      <td>Afghanistan</td>\n      <td>1963</td>\n      <td>0.882</td>\n      <td>af</td>\n      <td>Afghanistan</td>\n      <td>Afghanistan</td>\n      <td>Afghanistan</td>\n    </tr>\n    <tr>\n      <th>3</th>\n      <td>Afghanistan</td>\n      <td>1964</td>\n      <td>-0.727</td>\n      <td>af</td>\n      <td>Afghanistan</td>\n      <td>Afghanistan</td>\n      <td>Afghanistan</td>\n    </tr>\n    <tr>\n      <th>4</th>\n      <td>Afghanistan</td>\n      <td>1965</td>\n      <td>-0.200</td>\n      <td>af</td>\n      <td>Afghanistan</td>\n      <td>Afghanistan</td>\n      <td>Afghanistan</td>\n    </tr>\n  </tbody>\n</table>\n</div>"
     },
     "metadata": {},
     "execution_count": 38
    }
   ],
   "source": [
    "#mapping (country code -> translated country name) & add to dataframe\n",
    "df['country_de'] = df['country_code'].apply(lambda x: get_country_translation(x, country_dict_de))\n",
    "df['country_fr'] = df['country_code'].apply(lambda x: get_country_translation(x, country_dict_fr))\n",
    "df['country_it'] = df['country_code'].apply(lambda x: get_country_translation(x, country_dict_it))\n",
    "\n",
    "df.head()"
   ]
  },
  {
   "cell_type": "code",
   "execution_count": 39,
   "metadata": {},
   "outputs": [],
   "source": [
    "#save as a new csv file\n",
    "df.to_csv(\"./climate_change_cleaned.csv\")"
   ]
  },
  {
   "cell_type": "code",
   "execution_count": 48,
   "metadata": {},
   "outputs": [],
   "source": [
    "#add geojson\n",
    "with open('./raw/ne_110m_admin_0_countries.geojson', 'r') as f:\n",
    "    geodata = geojson.load(f)"
   ]
  },
  {
   "cell_type": "code",
   "execution_count": 49,
   "metadata": {},
   "outputs": [],
   "source": [
    "#NEW\n",
    "def get_temperature(country_code, df):\n",
    "    \"\"\"returns the temperature of specific country with country code\n",
    "    \n",
    "        Parameters:\n",
    "        country_code: ISO alpha 2 Country Code (String)\n",
    "        df: dataframe with country code and temperature values (Dataframe)\n",
    "\n",
    "        Returns: temperature value if found, otherwise 999 (Str)\n",
    "\n",
    "       \"\"\"    \n",
    "    for index, row in df.iterrows():\n",
    "        if row['country_code'].lower() == country_code.lower() and row['year'] == 2019:\n",
    "            return str(row['value'])\n",
    "    return 999"
   ]
  },
  {
   "cell_type": "code",
   "execution_count": 50,
   "metadata": {
    "tags": [
     "outputPrepend",
     "outputPrepend",
     "outputPrepend",
     "outputPrepend",
     "outputPrepend",
     "outputPrepend",
     "outputPrepend",
     "outputPrepend",
     "outputPrepend",
     "outputPrepend",
     "outputPrepend",
     "outputPrepend",
     "outputPrepend",
     "outputPrepend",
     "outputPrepend",
     "outputPrepend",
     "outputPrepend",
     "outputPrepend",
     "outputPrepend",
     "outputPrepend",
     "outputPrepend",
     "outputPrepend",
     "outputPrepend",
     "outputPrepend",
     "outputPrepend",
     "outputPrepend",
     "outputPrepend",
     "outputPrepend",
     "outputPrepend",
     "outputPrepend",
     "outputPrepend",
     "outputPrepend",
     "outputPrepend",
     "outputPrepend"
    ]
   },
   "outputs": [],
   "source": [
    "#add temp value to geojson properties\n",
    "for feat in geodata['features']:\n",
    "    feat['properties']['TEMP'] = get_temperature(feat['properties']['ISO_A2'], df)"
   ]
  },
  {
   "cell_type": "code",
   "execution_count": 51,
   "metadata": {},
   "outputs": [],
   "source": [
    "#Write result to a new file\n",
    "with open('./geojson_temperature_str.geojson', 'w') as f:\n",
    "    geojson.dump(geodata, f)"
   ]
  },
  {
   "cell_type": "code",
   "execution_count": null,
   "metadata": {},
   "outputs": [],
   "source": []
  }
 ]
}