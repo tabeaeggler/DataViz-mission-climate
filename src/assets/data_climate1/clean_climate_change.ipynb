{
 "nbformat": 4,
 "nbformat_minor": 2,
 "metadata": {
  "language_info": {
   "name": "python",
   "codemirror_mode": {
    "name": "ipython",
    "version": 3
   },
   "version": "3.7.3-final"
  },
  "orig_nbformat": 2,
  "file_extension": ".py",
  "mimetype": "text/x-python",
  "name": "python",
  "npconvert_exporter": "python",
  "pygments_lexer": "ipython3",
  "version": 3,
  "kernelspec": {
   "name": "python3",
   "display_name": "Python 3"
  }
 },
 "cells": [
  {
   "cell_type": "code",
   "execution_count": 249,
   "metadata": {},
   "outputs": [],
   "source": [
    "import pandas as pd\n",
    "import numpy as np\n",
    "import json\n",
    "import geojson"
   ]
  },
  {
   "cell_type": "code",
   "execution_count": 250,
   "metadata": {},
   "outputs": [
    {
     "output_type": "execute_result",
     "data": {
      "text/plain": "   country_eng  year  value\n0  Afghanistan  1961 -0.080\n1  Afghanistan  1962 -0.120\n2  Afghanistan  1963  0.882\n3  Afghanistan  1964 -0.727\n4  Afghanistan  1965 -0.200",
      "text/html": "<div>\n<style scoped>\n    .dataframe tbody tr th:only-of-type {\n        vertical-align: middle;\n    }\n\n    .dataframe tbody tr th {\n        vertical-align: top;\n    }\n\n    .dataframe thead th {\n        text-align: right;\n    }\n</style>\n<table border=\"1\" class=\"dataframe\">\n  <thead>\n    <tr style=\"text-align: right;\">\n      <th></th>\n      <th>country_eng</th>\n      <th>year</th>\n      <th>value</th>\n    </tr>\n  </thead>\n  <tbody>\n    <tr>\n      <th>0</th>\n      <td>Afghanistan</td>\n      <td>1961</td>\n      <td>-0.080</td>\n    </tr>\n    <tr>\n      <th>1</th>\n      <td>Afghanistan</td>\n      <td>1962</td>\n      <td>-0.120</td>\n    </tr>\n    <tr>\n      <th>2</th>\n      <td>Afghanistan</td>\n      <td>1963</td>\n      <td>0.882</td>\n    </tr>\n    <tr>\n      <th>3</th>\n      <td>Afghanistan</td>\n      <td>1964</td>\n      <td>-0.727</td>\n    </tr>\n    <tr>\n      <th>4</th>\n      <td>Afghanistan</td>\n      <td>1965</td>\n      <td>-0.200</td>\n    </tr>\n  </tbody>\n</table>\n</div>"
     },
     "metadata": {},
     "execution_count": 250
    }
   ],
   "source": [
    "#import climate change data\n",
    "df = pd.read_csv('./raw/climate_change_orig.csv')\n",
    "\n",
    "#delete not used columns\n",
    "df.drop(['Domain Code', 'Area Code', 'Domain', 'Element Code', 'Element', 'Months Code', 'Months', 'Year Code', 'Unit', 'Flag', 'Flag Description'], axis=1, inplace=True)\n",
    "\n",
    "#rename columns\n",
    "df.columns = ['country_eng', 'year', 'value']\n",
    "\n",
    "df.head()"
   ]
  },
  {
   "cell_type": "code",
   "execution_count": 251,
   "metadata": {},
   "outputs": [],
   "source": [
    "#import country codes for mapping\n",
    "df_country_code = pd.read_csv('./raw/country_codes.CSV', index_col=5)\n",
    "\n",
    "#delete not used columns\n",
    "df_country_code.drop(['LANG', 'LANG_NAME', 'COUNTRY_ALPHA3_CODE', 'COUNTRY_NUMERIC_CODE'], axis=1, inplace=True)\n",
    "\n",
    "#create dict: (<countryname>: <countycode>)\n",
    "country_dict = df_country_code.to_dict('dict')\n",
    ""
   ]
  },
  {
   "cell_type": "code",
   "execution_count": 252,
   "metadata": {},
   "outputs": [],
   "source": [
    "def get_country_code(country_name, country_dict):\n",
    "    \"\"\"returns the country code of specific country\n",
    "    \n",
    "        Parameters:\n",
    "        country_name: Name of the country in english (String)\n",
    "        country_dict: Dictionary with country - country code mapping (Dictionary)\n",
    "\n",
    "        Returns: country code if found, otherwise empty string (String)\n",
    "\n",
    "       \"\"\"    \n",
    "\n",
    "    #handling countries with different names\n",
    "    if (country_name == \"Democratic People's Republic of Korea\"):\n",
    "        return \"kp\"\n",
    "    if (country_name == \"Republic of Korea\"):\n",
    "        return \"kr\"\n",
    "    if (country_name == \"French Southern and Antarctic Territories\"):\n",
    "        return \"tf\"\n",
    "    if (country_name == \"Ethiopia PDR\"):\n",
    "        return \"et\"\n",
    "    if (country_name == \"Midway Island\"):\n",
    "        return \"mi\"\n",
    "    if (country_name == \"Netherlands Antilles (former)\"):\n",
    "        return \"an\"\n",
    "    if (country_name == \"Pacific Islands Trust Territory\"):\n",
    "        return \"pc\"\n",
    "    if (country_name == \"Pitcairn Islands\"):\n",
    "        return \"pn\"\n",
    "    if (country_name == \"Republic of Moldova\"):\n",
    "        return \"md\"\n",
    "    if (country_name == \"Serbia and Montenegro\"):\n",
    "        return \"cs\"\n",
    "    if (country_name == \"Sudan (former)\"):\n",
    "        return \"sd\"\n",
    "    if (country_name == \"Svalbard and Jan Mayen Islands\"):\n",
    "        return \"sj\"\n",
    "    if (country_name == \"United Republic of Tanzania\"):\n",
    "        return \"tz\"\n",
    "    if (country_name == \"United States Virgin Islands\"):\n",
    "        return \"vi\"\n",
    "    if (country_name == \"Wake Island\"):\n",
    "        return \"wk\"\n",
    "    if (country_name == \"Wallis and Futuna Islandss\"):\n",
    "        return \"wf\"\n",
    "    if (country_name == \"Yugoslav SFR\"):\n",
    "        return \"yu\"\n",
    "    if (country_name == \"Belgium-Luxembourg\"):\n",
    "        return \"be\"\n",
    "    if (country_name == \"Yugoslav SFR\"):\n",
    "        return \"yu\"\n",
    "    if (country_name == \"Channel Islands\"):\n",
    "        return \"ky\"\n",
    "    if (country_name == \"China, Hong Kong SAR\"):\n",
    "        return \"hk\"\n",
    "    if (country_name == \"China, Macao SAR\"):\n",
    "        return \"mo\"\n",
    "    if (country_name == \"China, mainland\"):\n",
    "        return \"cn\"\n",
    "    if (country_name == \"China, Taiwan Province of\"):\n",
    "        return \"tw\"\n",
    "    if (country_name == \"Wallis and Futuna Islands\"):\n",
    "        return \"wf\"\n",
    "    if (country_name == \"Kosovo\"):\n",
    "        return \"xk\"\n",
    "    if (country_name == \"Namibia\"):\n",
    "        return \"na\"\n",
    "    if (country_name == \"Norway\"):\n",
    "        return \"-99\"\n",
    "    if (country_name == \"France\"):\n",
    "        return \"fx\"\n",
    "    if (country_name == \"Somaliland\"):\n",
    "        return \"so\"\n",
    "\n",
    "\n",
    "    for key, value in country_dict.get('COUNTRY_ALPHA2_CODE').items():\n",
    "        if key == country_name:\n",
    "            return str(value).lower()\n",
    "\n",
    "\n",
    "    return \"NO_CC\""
   ]
  },
  {
   "cell_type": "code",
   "execution_count": 253,
   "metadata": {},
   "outputs": [],
   "source": [
    "#mapping (country -> country code) & add to dataframe\n",
    "df['country_code'] = df['country_eng'].apply(lambda x: get_country_code(x, country_dict))"
   ]
  },
  {
   "cell_type": "code",
   "execution_count": 254,
   "metadata": {},
   "outputs": [],
   "source": [
    "def get_country_translation(country_code, country_dict):\n",
    "    \"\"\"returns the translated country name\n",
    "    \n",
    "        Parameters:\n",
    "        country_code: Alpha2 Country Code (String)\n",
    "        country_dict: Dictionary with country code - translated country name mapping (Dictionary)\n",
    "\n",
    "        Returns: translated country name if found, otherwise empty String (String)\n",
    "\n",
    "       \"\"\"    \n",
    "\n",
    "    for key, value in country_dict.items():\n",
    "        if key in country_code:\n",
    "            return str(value)\n",
    "    return \"NO_TRANSLATION\""
   ]
  },
  {
   "cell_type": "code",
   "execution_count": 255,
   "metadata": {},
   "outputs": [],
   "source": [
    "#import french translated country name\n",
    "df_de = pd.read_csv('./raw/country_translation_de.csv', usecols=['name', 'alpha2'])\n",
    "df_fr = pd.read_csv('./raw/country_translation_fr.csv', usecols=['name', 'alpha2'])\n",
    "df_it = pd.read_csv('./raw/country_translation_it.csv', usecols=['name', 'alpha2'])\n",
    "\n",
    "#create dict: (<countycode>:<translated countryname>)\n",
    "country_dict_de = df_de.set_index('alpha2')['name'].to_dict()\n",
    "country_dict_fr = df_fr.set_index('alpha2')['name'].to_dict()\n",
    "country_dict_it = df_it.set_index('alpha2')['name'].to_dict()"
   ]
  },
  {
   "cell_type": "code",
   "execution_count": 256,
   "metadata": {},
   "outputs": [
    {
     "output_type": "execute_result",
     "data": {
      "text/plain": "   country_eng  year  value country_code   country_de   country_fr  \\\n0  Afghanistan  1961 -0.080           af  Afghanistan  Afghanistan   \n1  Afghanistan  1962 -0.120           af  Afghanistan  Afghanistan   \n2  Afghanistan  1963  0.882           af  Afghanistan  Afghanistan   \n3  Afghanistan  1964 -0.727           af  Afghanistan  Afghanistan   \n4  Afghanistan  1965 -0.200           af  Afghanistan  Afghanistan   \n\n    country_it  \n0  Afghanistan  \n1  Afghanistan  \n2  Afghanistan  \n3  Afghanistan  \n4  Afghanistan  ",
      "text/html": "<div>\n<style scoped>\n    .dataframe tbody tr th:only-of-type {\n        vertical-align: middle;\n    }\n\n    .dataframe tbody tr th {\n        vertical-align: top;\n    }\n\n    .dataframe thead th {\n        text-align: right;\n    }\n</style>\n<table border=\"1\" class=\"dataframe\">\n  <thead>\n    <tr style=\"text-align: right;\">\n      <th></th>\n      <th>country_eng</th>\n      <th>year</th>\n      <th>value</th>\n      <th>country_code</th>\n      <th>country_de</th>\n      <th>country_fr</th>\n      <th>country_it</th>\n    </tr>\n  </thead>\n  <tbody>\n    <tr>\n      <th>0</th>\n      <td>Afghanistan</td>\n      <td>1961</td>\n      <td>-0.080</td>\n      <td>af</td>\n      <td>Afghanistan</td>\n      <td>Afghanistan</td>\n      <td>Afghanistan</td>\n    </tr>\n    <tr>\n      <th>1</th>\n      <td>Afghanistan</td>\n      <td>1962</td>\n      <td>-0.120</td>\n      <td>af</td>\n      <td>Afghanistan</td>\n      <td>Afghanistan</td>\n      <td>Afghanistan</td>\n    </tr>\n    <tr>\n      <th>2</th>\n      <td>Afghanistan</td>\n      <td>1963</td>\n      <td>0.882</td>\n      <td>af</td>\n      <td>Afghanistan</td>\n      <td>Afghanistan</td>\n      <td>Afghanistan</td>\n    </tr>\n    <tr>\n      <th>3</th>\n      <td>Afghanistan</td>\n      <td>1964</td>\n      <td>-0.727</td>\n      <td>af</td>\n      <td>Afghanistan</td>\n      <td>Afghanistan</td>\n      <td>Afghanistan</td>\n    </tr>\n    <tr>\n      <th>4</th>\n      <td>Afghanistan</td>\n      <td>1965</td>\n      <td>-0.200</td>\n      <td>af</td>\n      <td>Afghanistan</td>\n      <td>Afghanistan</td>\n      <td>Afghanistan</td>\n    </tr>\n  </tbody>\n</table>\n</div>"
     },
     "metadata": {},
     "execution_count": 256
    }
   ],
   "source": [
    "#mapping (country code -> translated country name) & add to dataframe\n",
    "df['country_de'] = df['country_code'].apply(lambda x: get_country_translation(x, country_dict_de))\n",
    "df['country_fr'] = df['country_code'].apply(lambda x: get_country_translation(x, country_dict_fr))\n",
    "df['country_it'] = df['country_code'].apply(lambda x: get_country_translation(x, country_dict_it))\n",
    "\n",
    "#no translation: Anguilla, ai, Antarctica, aq, Aruba, aw, China, Taiwan Province of, tw, Christmas Island, cx, Cocos (Keeling) Islands, cc, Faroe Islands, fo, French Guiana, gf, French Polynesia, pf, French Southern and Antarctic Territories, tf, Gibraltar, gi, Greenland, gl, Guadeloupe, gp, Holy See, va, Isle of Man, im, Martinique, mq, Mayotte, yt, Montserrat, ms, New Caledonia, nc, Niue, nu, Norfolk Island, nf, Palestine, ps, Pitcairn Islands, pn, Puerto Rico, pr, Réunion, re, Saint Helena, Ascension and Tristan da Cunha, sh, Saint Pierre and Miquelon, pm,South Georgia and the South Sandwich Islands, gs, Svalbard and Jan Mayen Islands, sj, Tokelau, tk, Turks and Caicos Islands, tc, Wallis and Futuna Islands, wf, Western Sahara, eh\n",
    "\n",
    "df.head()"
   ]
  },
  {
   "cell_type": "code",
   "execution_count": 257,
   "metadata": {},
   "outputs": [],
   "source": [
    "#save as a new csv file\n",
    "df.to_csv(\"./climate_change_cleaned.csv\")"
   ]
  },
  {
   "cell_type": "code",
   "execution_count": 258,
   "metadata": {},
   "outputs": [],
   "source": [
    "#open geojson default db\n",
    "with open('./raw/ne_110m_admin_0_countries.geojson', 'r') as f:\n",
    "    geodata = geojson.load(f)"
   ]
  },
  {
   "cell_type": "code",
   "execution_count": 259,
   "metadata": {},
   "outputs": [],
   "source": [
    "def get_temperature(country_code, country_name, df):\n",
    "    \"\"\"returns the temperature of specific country with country code\n",
    "    \n",
    "        Parameters:\n",
    "        country_code: ISO alpha 2 Country Code (String)\n",
    "        df: dataframe with country code and temperature values (Dataframe)\n",
    "\n",
    "        Returns: temperature value if found, otherwise 999 (Str)\n",
    "\n",
    "       \"\"\"  \n",
    "    code =  country_code \n",
    "\n",
    "    #Handle countries with not existing country code\n",
    "    if (country_code == \"-99\" and country_name == \"France\"):\n",
    "            code = \"fx\"\n",
    "\n",
    "    for index, row in df.iterrows():\n",
    "        if row['country_code'].lower() in code.lower() and row['year'] == 2019:\n",
    "            return str(row['value'])\n",
    "    return \"NO_DATA\""
   ]
  },
  {
   "cell_type": "code",
   "execution_count": 260,
   "metadata": {
    "tags": [
     "outputPrepend",
     "outputPrepend",
     "outputPrepend",
     "outputPrepend",
     "outputPrepend",
     "outputPrepend",
     "outputPrepend",
     "outputPrepend",
     "outputPrepend",
     "outputPrepend",
     "outputPrepend",
     "outputPrepend",
     "outputPrepend",
     "outputPrepend",
     "outputPrepend",
     "outputPrepend",
     "outputPrepend",
     "outputPrepend",
     "outputPrepend",
     "outputPrepend",
     "outputPrepend",
     "outputPrepend",
     "outputPrepend",
     "outputPrepend",
     "outputPrepend",
     "outputPrepend",
     "outputPrepend",
     "outputPrepend",
     "outputPrepend",
     "outputPrepend",
     "outputPrepend",
     "outputPrepend",
     "outputPrepend",
     "outputPrepend"
    ]
   },
   "outputs": [],
   "source": [
    "#add temp value to geojson properties\n",
    "for feat in geodata['features']:\n",
    "    feat['properties']['TEMP'] = get_temperature(feat['properties']['ISO_A2'], feat['properties']['ADMIN'], df)"
   ]
  },
  {
   "cell_type": "code",
   "execution_count": 261,
   "metadata": {},
   "outputs": [],
   "source": [
    "#Write result to a new file\n",
    "with open('./geojson_temperature.geojson', 'w') as f:\n",
    "    geojson.dump(geodata, f)"
   ]
  },
  {
   "cell_type": "code",
   "execution_count": 262,
   "metadata": {},
   "outputs": [],
   "source": [
    "#No climate data: kosovo, Burundi, Falkland Islands, Rwanda, Yemen"
   ]
  },
  {
   "cell_type": "code",
   "execution_count": null,
   "metadata": {},
   "outputs": [],
   "source": []
  }
 ]
}