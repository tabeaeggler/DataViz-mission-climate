{
 "cells": [
  {
   "cell_type": "code",
   "execution_count": 1,
   "metadata": {},
   "outputs": [],
   "source": [
    "import pandas as pd\n",
    "import geojson\n",
    "from translate import Translator"
   ]
  },
  {
   "cell_type": "code",
   "execution_count": null,
   "metadata": {},
   "outputs": [],
   "source": []
  },
  {
   "cell_type": "code",
   "execution_count": 2,
   "metadata": {},
   "outputs": [],
   "source": [
    "#################################################################################################################\n",
    "#Clean all country climate date 1961 - 2019"
   ]
  },
  {
   "cell_type": "code",
   "execution_count": 3,
   "metadata": {},
   "outputs": [
    {
     "output_type": "execute_result",
     "data": {
      "text/plain": "   country_eng  year  value\n0  Afghanistan  1961 -0.080\n1  Afghanistan  1962 -0.120\n2  Afghanistan  1963  0.882\n3  Afghanistan  1964 -0.727\n4  Afghanistan  1965 -0.200",
      "text/html": "<div>\n<style scoped>\n    .dataframe tbody tr th:only-of-type {\n        vertical-align: middle;\n    }\n\n    .dataframe tbody tr th {\n        vertical-align: top;\n    }\n\n    .dataframe thead th {\n        text-align: right;\n    }\n</style>\n<table border=\"1\" class=\"dataframe\">\n  <thead>\n    <tr style=\"text-align: right;\">\n      <th></th>\n      <th>country_eng</th>\n      <th>year</th>\n      <th>value</th>\n    </tr>\n  </thead>\n  <tbody>\n    <tr>\n      <th>0</th>\n      <td>Afghanistan</td>\n      <td>1961</td>\n      <td>-0.080</td>\n    </tr>\n    <tr>\n      <th>1</th>\n      <td>Afghanistan</td>\n      <td>1962</td>\n      <td>-0.120</td>\n    </tr>\n    <tr>\n      <th>2</th>\n      <td>Afghanistan</td>\n      <td>1963</td>\n      <td>0.882</td>\n    </tr>\n    <tr>\n      <th>3</th>\n      <td>Afghanistan</td>\n      <td>1964</td>\n      <td>-0.727</td>\n    </tr>\n    <tr>\n      <th>4</th>\n      <td>Afghanistan</td>\n      <td>1965</td>\n      <td>-0.200</td>\n    </tr>\n  </tbody>\n</table>\n</div>"
     },
     "metadata": {},
     "execution_count": 3
    }
   ],
   "source": [
    "#import climate change data\n",
    "df = pd.read_csv('./raw/climate_change_orig.csv')\n",
    "\n",
    "#delete not used columns\n",
    "df.drop(['Domain Code', 'Area Code', 'Domain', 'Element Code', 'Element', 'Months Code', 'Months', 'Year Code', 'Unit', 'Flag', 'Flag Description'], axis=1, inplace=True)\n",
    "\n",
    "#rename columns\n",
    "df.columns = ['country_eng', 'year', 'value']\n",
    "\n",
    "df.head()"
   ]
  },
  {
   "cell_type": "code",
   "execution_count": 4,
   "metadata": {},
   "outputs": [],
   "source": [
    "#import country codes for mapping\n",
    "df_country_code = pd.read_csv('./raw/country_codes.CSV', index_col=5)\n",
    "\n",
    "#delete not used columns\n",
    "df_country_code.drop(['LANG', 'LANG_NAME', 'COUNTRY_ALPHA3_CODE', 'COUNTRY_NUMERIC_CODE'], axis=1, inplace=True)\n",
    "\n",
    "#create dict: (<countryname>: <countycode>)\n",
    "country_dict = df_country_code.to_dict('dict')\n",
    ""
   ]
  },
  {
   "cell_type": "code",
   "execution_count": 5,
   "metadata": {},
   "outputs": [],
   "source": [
    "def get_country_code(country_name, country_dict):\n",
    "    \"\"\"returns the country code of specific country\n",
    "    \n",
    "        Parameters:\n",
    "        country_name: Name of the country in english (String)\n",
    "        country_dict: Dictionary with country - country code mapping (Dictionary)\n",
    "\n",
    "        Returns: country code if found, otherwise empty string (String)\n",
    "\n",
    "       \"\"\"    \n",
    "\n",
    "    #handling countries with different names\n",
    "    if (country_name == \"Norway\"):\n",
    "        return \"no\"\n",
    "    if (country_name == \"France\"):\n",
    "        return \"fx\"\n",
    "    if (country_name == \"Democratic People's Republic of Korea\"):\n",
    "        return \"kp\"\n",
    "    if (country_name == \"Republic of Korea\"):\n",
    "        return \"kr\"\n",
    "    if (country_name == \"French Southern and Antarctic Territories\"):\n",
    "        return \"tf\"\n",
    "    if (country_name == \"Ethiopia PDR\"):\n",
    "        return \"et\"\n",
    "    if (country_name == \"Midway Island\"):\n",
    "        return \"mi\"\n",
    "    if (country_name == \"Netherlands Antilles (former)\"):\n",
    "        return \"an\"\n",
    "    if (country_name == \"Pacific Islands Trust Territory\"):\n",
    "        return \"pc\"\n",
    "    if (country_name == \"Pitcairn Islands\"):\n",
    "        return \"pn\"\n",
    "    if (country_name == \"Republic of Moldova\"):\n",
    "        return \"md\"\n",
    "    if (country_name == \"Serbia and Montenegro\"):\n",
    "        return \"cs\"\n",
    "    if (country_name == \"Sudan (former)\"):\n",
    "        return \"sd\"\n",
    "    if (country_name == \"Svalbard and Jan Mayen Islands\"):\n",
    "        return \"sj\"\n",
    "    if (country_name == \"United Republic of Tanzania\"):\n",
    "        return \"tz\"\n",
    "    if (country_name == \"United States Virgin Islands\"):\n",
    "        return \"vi\"\n",
    "    if (country_name == \"Wake Island\"):\n",
    "        return \"wk\"\n",
    "    if (country_name == \"Wallis and Futuna Islandss\"):\n",
    "        return \"wf\"\n",
    "    if (country_name == \"Yugoslav SFR\"):\n",
    "        return \"yu\"\n",
    "    if (country_name == \"Belgium-Luxembourg\"):\n",
    "        return \"be\"\n",
    "    if (country_name == \"Yugoslav SFR\"):\n",
    "        return \"yu\"\n",
    "    if (country_name == \"Channel Islands\"):\n",
    "        return \"ky\"\n",
    "    if (country_name == \"China, Hong Kong SAR\"):\n",
    "        return \"hk\"\n",
    "    if (country_name == \"China, Macao SAR\"):\n",
    "        return \"mo\"\n",
    "    if (country_name == \"China, mainland\"):\n",
    "        return \"cn\"\n",
    "    if (country_name == \"China, Taiwan Province of\"):\n",
    "        return \"tw\"\n",
    "    if (country_name == \"Wallis and Futuna Islands\"):\n",
    "        return \"wf\"\n",
    "    if (country_name == \"Kosovo\"):\n",
    "        return \"xk\"\n",
    "    if (country_name == \"Namibia\"):\n",
    "        return \"na\"\n",
    "    if (country_name == \"Somaliland\"):\n",
    "        return \"so\"\n",
    "\n",
    "\n",
    "    for key, value in country_dict.get('COUNTRY_ALPHA2_CODE').items():\n",
    "        if key == country_name:\n",
    "            return str(value).lower()\n",
    "\n",
    "\n",
    "    return \"NO_CC\""
   ]
  },
  {
   "cell_type": "code",
   "execution_count": 6,
   "metadata": {},
   "outputs": [],
   "source": [
    "#mapping (country -> country code) & add to dataframe\n",
    "df['country_code'] = df['country_eng'].apply(lambda x: get_country_code(x, country_dict))"
   ]
  },
  {
   "cell_type": "code",
   "execution_count": 7,
   "metadata": {},
   "outputs": [],
   "source": [
    "#change data that are not consistent and lead to strange/wrong linegraph line.\n",
    "\n",
    "#China and China, mainland have same cc -> China, mainland not used\n",
    "df = df.drop(df[df.country_eng == \"China, mainland\"].index)\n",
    "\n",
    "#duplicated entry for sudan in year 2011\n",
    "df = df.drop(df[(df.country_eng == \"Sudan (former)\") & (df.year == 2011)].index)\n",
    "\n",
    "\n",
    "#south sudan add mission years as nan\n",
    "#N = 50\n",
    "#startyear = 1961\n",
    "#for i in range(50):\n",
    "    #df = df.append({'country_eng': 'South Sudan', 'year' : startyear + i, 'value': np.nan, 'country_code': 'ss'},ignore_index=True)"
   ]
  },
  {
   "cell_type": "code",
   "execution_count": 8,
   "metadata": {},
   "outputs": [],
   "source": [
    "#countries which doesnt exist since 1961 -> add data from former country\n",
    "\n",
    "#south sudan -> independent from sudan since 2011\n",
    "df_ss = df[df.country_eng == 'Sudan (former)']\n",
    "df_ss.drop(['country_code', 'country_eng'], 1, inplace=True)\n",
    "df_ss['country_code'] = \"ss\"\n",
    "df_ss['country_eng'] = \"South Sudan\"\n",
    "df = df.append(df_ss, ignore_index = True)\n",
    "\n",
    "\n",
    "#Czech Republic and Slovakia -> old czechoslovakia since 1993\n",
    "df_sk = df[df.country_eng == 'Czechoslovakia']\n",
    "df_sk.drop(['country_code', 'country_eng'], 1, inplace=True)\n",
    "df_sk['country_code'] = \"sk\"\n",
    "df_sk['country_eng'] = \"Slovakia\"\n",
    "df = df.append(df_sk, ignore_index = True)\n",
    "\n",
    "df_cz = df[df.country_eng == 'Czechoslovakia']\n",
    "df_cz.drop(['country_code', 'country_eng'], 1, inplace=True)\n",
    "df_cz['country_code'] = \"cz\"\n",
    "df_cz['country_eng'] = \"Czechia\"\n",
    "df = df.append(df_cz, ignore_index = True)\n",
    "\n",
    "\n",
    "#old soviet union countries -> independent from ussr since 1992\n",
    "df_ussr = df[df.country_eng == 'USSR']\n",
    "df_ussr.drop(['country_code', 'country_eng'], 1, inplace=True)\n",
    "\n",
    "#dict with present-day countries and countrycode\n",
    "df_old_ussr_dict = {\n",
    "    \"Russian Federation\": \"ru\",\n",
    "    \"Georgia\": \"ge\",\n",
    "    \"Ukraine\": \"ua\",\n",
    "    \"Moldova\": \"md\",\n",
    "    \"Belarus\": \"by\",\n",
    "    \"Armenia\": \"am\",\n",
    "    \"Azerbaijan\": \"az\",\n",
    "    \"Kazakhstan\": \"kz\",\n",
    "    \"Uzbekistan\": \"uz\",\n",
    "    \"Turkmenistan\": \"tm\",\n",
    "    \"Kyrgyzstan\": \"kg\",\n",
    "    \"Estonia\": \"ee\",\n",
    "    \"Latvia\": \"lv\",\n",
    "    \"Lithuania\": \"lt\"\n",
    "}\n",
    "\n",
    "for key, value in df_old_ussr_dict.items():\n",
    "    df_temp = df_ussr\n",
    "    df_temp['country_code'] = value\n",
    "    df_temp['country_eng'] = key\n",
    "    df = df.append(df_temp, ignore_index = True)\n"
   ]
  },
  {
   "cell_type": "code",
   "execution_count": 9,
   "metadata": {},
   "outputs": [],
   "source": [
    "#sort df by cc and years\n",
    "df = df.sort_values(by=['country_code', 'year'])\n",
    "df = df.reset_index(drop=True)"
   ]
  },
  {
   "cell_type": "code",
   "execution_count": 10,
   "metadata": {},
   "outputs": [],
   "source": [
    "#save as a new csv file\n",
    "df.to_csv(\"./climate_change_cleaned.csv\")"
   ]
  },
  {
   "cell_type": "code",
   "execution_count": null,
   "metadata": {},
   "outputs": [],
   "source": []
  },
  {
   "cell_type": "code",
   "execution_count": 11,
   "metadata": {},
   "outputs": [],
   "source": [
    "#################################################################################################################\n",
    "#Add temperature change value to geojsonOutput: climate_change_cleaned.csv\n",
    "#################################################################################################################"
   ]
  },
  {
   "cell_type": "code",
   "execution_count": 12,
   "metadata": {},
   "outputs": [],
   "source": [
    "#open geojson default db\n",
    "with open('./raw/ne_110m_admin_0_countries.geojson', 'r') as f:\n",
    "    geodata = geojson.load(f)"
   ]
  },
  {
   "cell_type": "code",
   "execution_count": 13,
   "metadata": {},
   "outputs": [],
   "source": [
    "#set missing country code from norway & france \n",
    "for feat in geodata['features']:\n",
    "    if feat['properties']['ADMIN'] == \"France\":\n",
    "        feat['properties']['ISO_A2'] = \"fx\"\n",
    "\n",
    "    if feat['properties']['ADMIN'] == \"Norway\":\n",
    "        feat['properties']['ISO_A2'] = \"no\""
   ]
  },
  {
   "cell_type": "code",
   "execution_count": 14,
   "metadata": {},
   "outputs": [],
   "source": [
    "def get_temperature(country_code, df):\n",
    "    \"\"\"returns the temperature of specific country with country code\n",
    "    \n",
    "        Parameters:\n",
    "        country_code: ISO alpha 2 Country Code (String)\n",
    "        df: dataframe with country code and temperature values (Dataframe)\n",
    "\n",
    "        Returns: temperature value if found, otherwise 999 (Str)\n",
    "\n",
    "       \"\"\"  \n",
    "\n",
    "    for index, row in df.iterrows():\n",
    "        if row['country_code'].lower() in country_code.lower() and row['year'] == 2019:\n",
    "            return str(row['value'])\n",
    "    return \"NO_DATA\""
   ]
  },
  {
   "cell_type": "code",
   "execution_count": 15,
   "metadata": {
    "tags": [
     "outputPrepend",
     "outputPrepend",
     "outputPrepend",
     "outputPrepend",
     "outputPrepend",
     "outputPrepend",
     "outputPrepend",
     "outputPrepend",
     "outputPrepend",
     "outputPrepend",
     "outputPrepend",
     "outputPrepend",
     "outputPrepend",
     "outputPrepend",
     "outputPrepend",
     "outputPrepend",
     "outputPrepend",
     "outputPrepend",
     "outputPrepend",
     "outputPrepend",
     "outputPrepend",
     "outputPrepend",
     "outputPrepend",
     "outputPrepend",
     "outputPrepend",
     "outputPrepend",
     "outputPrepend",
     "outputPrepend",
     "outputPrepend",
     "outputPrepend",
     "outputPrepend",
     "outputPrepend",
     "outputPrepend",
     "outputPrepend"
    ]
   },
   "outputs": [],
   "source": [
    "#add temp value to geojson properties\n",
    "for feat in geodata['features']:\n",
    "    feat['properties']['TEMP'] = get_temperature(feat['properties']['ISO_A2'], df)"
   ]
  },
  {
   "cell_type": "code",
   "execution_count": 16,
   "metadata": {},
   "outputs": [],
   "source": [
    "#No climate data: kosovo, Burundi, Falkland Islands, Rwanda, Yemen"
   ]
  },
  {
   "cell_type": "code",
   "execution_count": 17,
   "metadata": {},
   "outputs": [],
   "source": [
    "#Create translator instance for de, fr & it\n",
    "translator_de = Translator(to_lang='de')\n",
    "translator_fr = Translator(to_lang='fr')\n",
    "translator_it = Translator(to_lang='it')\n",
    ""
   ]
  },
  {
   "cell_type": "code",
   "execution_count": 18,
   "metadata": {},
   "outputs": [],
   "source": [
    "#shorten long country names (longer than 18)\n",
    "long_country_names_dict = {}\n",
    "\n",
    "#search for long country names\n",
    "#for feat in geodata['features']:\n",
    "#    if (len(feat['properties']['ADMIN_DE']) > 18):\n",
    "#        long_country_names_dict.update({(feat['properties']['ADMIN_DE']): \"\"})\n",
    "#    if (len(feat['properties']['ADMIN_FR']) > 18):\n",
    "#        long_country_names_dict.update({(feat['properties']['ADMIN_FR']): \"\"})\n",
    "#    if (len(feat['properties']['ADMIN_IT']) > 18):\n",
    "#        long_country_names_dict.update({(feat['properties']['ADMIN_IT']): \"\"})\n",
    "#    if (len(feat['properties']['ADMIN']) > 18):\n",
    "#        long_country_names_dict.update({(feat['properties']['ADMIN']): \"\"})\n",
    "\n",
    "#add short country_names to dict\n",
    "long_country_names_dict.update({'Vereinigte Arabische Emirate': 'Emirate (VAE)', \n",
    "                                'Émirats Arabes Unis': 'Émirats (EAU)',\n",
    "                                'Emirati Arabi Uniti': 'Emirati (EAU)',\n",
    "                                'United Arab Emirates': 'Emirates (UAE)',\n",
    "                                'Französische Süd- und Antarktisgebiete': 'Franz. Süd-Antarktisgebiete',\n",
    "                                'Terres australes et antarctiques françaises': 'Terres australes-antarctiques fr.',\n",
    "                                'Terre Australi e Antartiche Francesi': 'Terre Australi-Antartiche fr.',\n",
    "                                'French Southern and Antarctic Lands': 'Fr. Southern-Antarctic Lands',\n",
    "                                'Bosnien und Herzegowina': 'Bosnien',\n",
    "                                'Bosnia ed Erzegovina': 'Bosnia',\n",
    "                                'Bosnie-Herzégovine': 'Bosnie',\n",
    "                                'Bosnia and Herzegovina': 'Bosnia',\n",
    "                                'Zentralafrikanische Republik': 'Zentralafr. Rep.',\n",
    "                                'République Centrafricaine': 'Rép. Centrafricaine',\n",
    "                                'Repubblica Centroafricana': 'Rep. Centroafricana',\n",
    "                                'Central African Republic': 'Centr. African Rep.',\n",
    "                                'Demokratische Republik Kongo': 'Kongo',\n",
    "                                'République Démocratique du Congo': 'Congo',\n",
    "                                'Repubblica Democratica del Congo': 'Congo',\n",
    "                                'Democratic Republic of the Congo': 'Congo',\n",
    "                                'Republic of the Congo': 'Congo Republic',\n",
    "                                'Repubblica del Congo': 'Congo Repubblica',\n",
    "                                'Republic of the Congo': 'Rep. of the Congo',\n",
    "                                'Dominikanische Republik': 'Dominikanische Rep.',\n",
    "                                'République Dominicaine': 'Rép. Dominicaine',\n",
    "                                'Repubblica Dominicana': 'Rep. Dominicana',\n",
    "                                'Vereinigtes Königreich': 'Ver. Königreich',\n",
    "                                'Papouasie-Nouvelle-Guinée': 'Pap.-Nlle-Guinée',\n",
    "                                'République de Serbie': 'Serbie',\n",
    "                                'Repubblica di Serbia': 'Serbia',\n",
    "                                'Republik Serbien': 'Serbien',\n",
    "                                'Königreich Eswatini (Swasiland)': 'Swasiland',\n",
    "                                'Trinidad und Tobago': 'Trinidad & Tobago',\n",
    "                                'Trinidad and Tobago': 'Trinidad & Tobago',\n",
    "                                'République-Unie de Tanzanie': 'Tanzanie',\n",
    "                                'Repubblica Unita di Tanzania': 'Tanzania',\n",
    "                                'United Republic of Tanzania': 'Tanzania',\n",
    "                                'Vereinigte Staaten von Amerika': 'Vereinigte Staaten',\n",
    "                                \"Stati Uniti d'America\": 'Stati Uniti',\n",
    "                                'États-Unis d’Amérique': 'États-Unis',\n",
    "                                'United States of America': 'United States'\n",
    "                                })"
   ]
  },
  {
   "cell_type": "code",
   "execution_count": 19,
   "metadata": {},
   "outputs": [],
   "source": [
    "def get_shorter_country_name(country_name):\n",
    "    \"\"\"returns a shorter country_name from defined dictionary\n",
    "    \n",
    "        Parameters:\n",
    "        country_name: Translated country in any languages\n",
    "\n",
    "        Returns: shorter country name\n",
    "\n",
    "       \"\"\"  \n",
    "    for key,value in long_country_names_dict.items():\n",
    "        if (key == country_name):\n",
    "            return value\n",
    "\n",
    "    \n",
    "    return country_name"
   ]
  },
  {
   "cell_type": "code",
   "execution_count": 20,
   "metadata": {},
   "outputs": [],
   "source": [
    "def get_translation(country_name, translator):\n",
    "    \"\"\"returns the the translated country\n",
    "    \n",
    "        Parameters:\n",
    "        country_name: Country to be translated in ENGLISH\n",
    "        translator: instance of translator in specific language\n",
    "\n",
    "        Returns: translated country (Str)\n",
    "\n",
    "       \"\"\"  \n",
    "    #handling specific tranlsations\n",
    "    if (country_name == \"United States of America\" and translator == translator_it):\n",
    "        return \"Stati Uniti d'America\";\n",
    "    \n",
    "    if (country_name == \"Iran\" and translator == translator_it):\n",
    "        return \"Iran\";\n",
    "    \n",
    "    if (country_name == \"Czechia\" and translator == translator_it):\n",
    "        return \"Cechia\";\n",
    "\n",
    "    trans = translator.translate(country_name)\n",
    "\n",
    "    if(len(trans) > 18):\n",
    "        trans = get_shorter_country_name(trans)\n",
    "    \n",
    "    return trans"
   ]
  },
  {
   "cell_type": "code",
   "execution_count": 21,
   "metadata": {},
   "outputs": [],
   "source": [
    "#add translations to geojson properties\n",
    "for feat in geodata['features']:\n",
    "    feat['properties']['ADMIN_DE'] = get_translation(feat['properties']['ADMIN'], translator_de)\n",
    "    feat['properties']['ADMIN_FR'] = get_translation(feat['properties']['ADMIN'], translator_fr)\n",
    "    feat['properties']['ADMIN_IT'] = get_translation(feat['properties']['ADMIN'], translator_it)"
   ]
  },
  {
   "cell_type": "code",
   "execution_count": 22,
   "metadata": {},
   "outputs": [],
   "source": [
    "#save geojson with added temp valu and tranlsations\n",
    "with open('../../../public/geojson_temp_translations.geojson', 'w') as f:\n",
    "    geojson.dump(geodata, f)"
   ]
  },
  {
   "cell_type": "code",
   "execution_count": 23,
   "metadata": {},
   "outputs": [],
   "source": [
    "#################################################################################################################\n",
    "    #Clean global temperature median 1961 - 2019\n",
    "    #Output: climate_change_global_cleaned.csv\n",
    "#################################################################################################################"
   ]
  },
  {
   "cell_type": "code",
   "execution_count": 24,
   "metadata": {},
   "outputs": [],
   "source": [
    "#import only used data\n",
    "df_global = pd.read_csv('./raw/climate_change_global_orig.csv', usecols=[\"Year\", \"Value\"])\n",
    "\n",
    "#rename columns\n",
    "df_global.columns = ['year', 'value']\n",
    "\n",
    "df_global.head()\n",
    "\n",
    "#save df_global to csv\n",
    "df_global.to_csv('./climate_change_global_cleaned.csv')"
   ]
  },
  {
   "cell_type": "code",
   "execution_count": null,
   "metadata": {},
   "outputs": [],
   "source": []
  }
 ],
 "metadata": {
  "language_info": {
   "name": "python",
   "codemirror_mode": {
    "name": "ipython",
    "version": 3
   },
   "version": "3.7.3-final"
  },
  "orig_nbformat": 2,
  "file_extension": ".py",
  "mimetype": "text/x-python",
  "name": "python",
  "npconvert_exporter": "python",
  "pygments_lexer": "ipython3",
  "version": 3,
  "kernelspec": {
   "name": "python3",
   "display_name": "Python 3"
  }
 },
 "nbformat": 4,
 "nbformat_minor": 2
}